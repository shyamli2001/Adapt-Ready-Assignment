{
  "nbformat": 4,
  "nbformat_minor": 0,
  "metadata": {
    "colab": {
      "provenance": []
    },
    "kernelspec": {
      "name": "python3",
      "display_name": "Python 3"
    },
    "language_info": {
      "name": "python"
    }
  },
  "cells": [
    {
      "cell_type": "markdown",
      "source": [
        "1. Data set reference link: https://www.consumerfinance.gov/data-\n",
        "research/consumer-complaints/#download-the-data\n",
        "File data source: https://files.consumerfinance.gov/ccdb/complaints.csv.zip\n",
        "Problem statement:\n",
        "Download the data from the file data source and provide possible data insights."
      ],
      "metadata": {
        "id": "CCTY5CM8bM7J"
      }
    },
    {
      "cell_type": "markdown",
      "source": [
        "2.Given an unsorted array of integers, find the length of the longest continuous increasing subsequence (subarray). Example 1: Input: [1,3,5,4,7] Output: 3 Example 2: Input: [2,2,2,2,2] Output: 1\n",
        "\n"
      ],
      "metadata": {
        "id": "_YzigbRKaLvu"
      }
    },
    {
      "cell_type": "code",
      "source": [],
      "metadata": {
        "id": "4zd0PFnScWFL"
      },
      "execution_count": null,
      "outputs": []
    },
    {
      "cell_type": "code",
      "source": [
        "def LengthOfLCIS(nums):\n",
        "    if not nums:\n",
        "        return 0\n",
        "    max_length = 1\n",
        "    current_length = 1\n",
        "    for i in range(1, len(nums)):\n",
        "        if nums[i] > nums[i - 1]:\n",
        "            current_length += 1\n",
        "        else:\n",
        "            max_length = max(max_length, current_length)\n",
        "            current_length = 1\n",
        "    return max(max_length, current_length)"
      ],
      "metadata": {
        "id": "du-7TY6paPbo"
      },
      "execution_count": 4,
      "outputs": []
    },
    {
      "cell_type": "code",
      "source": [
        "print(LengthOfLCIS([1, 3, 5, 4, 7]))\n",
        "print(LengthOfLCIS([2, 2, 2, 2, 2]))"
      ],
      "metadata": {
        "colab": {
          "base_uri": "https://localhost:8080/"
        },
        "id": "CTE45pH4aYhu",
        "outputId": "be45b9dc-6a29-488b-d5d1-5bc1b6f96915"
      },
      "execution_count": 5,
      "outputs": [
        {
          "output_type": "stream",
          "name": "stdout",
          "text": [
            "3\n",
            "1\n"
          ]
        }
      ]
    },
    {
      "cell_type": "markdown",
      "source": [
        "3.Given a list of non negative integers, arrange them such that they form the largest number. Example 1:  Input: [10,2]  Output: \"210\"  Example 2:\n",
        "\n",
        " Input: [3,30,34,5,9]  Output: \"9534330\""
      ],
      "metadata": {
        "id": "1HS6q0gMahJZ"
      }
    },
    {
      "cell_type": "code",
      "source": [
        "def largestNumber(nums):\n",
        "    str_nums = [str(num) for num in nums]\n",
        "    str_nums.sort(key=lambda x: x * 2, reverse=True)\n",
        "    return \"\".join(str_nums).lstrip(\"0\") or \"0\""
      ],
      "metadata": {
        "id": "pUTZF3pXakjY"
      },
      "execution_count": 6,
      "outputs": []
    },
    {
      "cell_type": "code",
      "source": [
        "print(largestNumber([10, 2]))\n",
        "print(largestNumber([3, 30, 34, 5, 9]))"
      ],
      "metadata": {
        "colab": {
          "base_uri": "https://localhost:8080/"
        },
        "id": "9HdkJVfIapNh",
        "outputId": "9fdbce93-1e0c-4e06-8440-37e3af6df124"
      },
      "execution_count": 7,
      "outputs": [
        {
          "output_type": "stream",
          "name": "stdout",
          "text": [
            "210\n",
            "9534330\n"
          ]
        }
      ]
    },
    {
      "cell_type": "markdown",
      "source": [
        "4.Store all the \"servlet-name\", and \"servlet-class\" to a csv file from the attached sample_json.json file using Python."
      ],
      "metadata": {
        "id": "fwEva3JtatPm"
      }
    },
    {
      "cell_type": "code",
      "source": [
        "import pandas as pd\n",
        "\n",
        "# Load the JSON file into a pandas DataFrame\n",
        "df = pd.read_json('/content/DT A1 sample_json (1) (1).json')\n",
        "\n",
        "# Extract the 'servlet' key from the JSON data\n",
        "servlet_data = df['web-app']['servlet']\n",
        "\n",
        "# Convert the list of dictionaries to a DataFrame\n",
        "servlet_df = pd.DataFrame(servlet_data)\n",
        "\n",
        "# Extract the 'servlet-name' and 'servlet-class' columns\n",
        "servlet_data = servlet_df[['servlet-name', 'servlet-class']]\n",
        "\n",
        "# Write the servlet data to a CSV file\n",
        "servlet_data.to_csv('servlet_data.csv', index=False)"
      ],
      "metadata": {
        "id": "0U0_yj9qaz0G"
      },
      "execution_count": 8,
      "outputs": []
    }
  ]
}